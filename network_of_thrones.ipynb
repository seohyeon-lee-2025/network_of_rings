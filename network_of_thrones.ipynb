{
  "cells": [
    {
      "cell_type": "markdown",
      "metadata": {
        "colab_type": "text",
        "id": "view-in-github"
      },
      "source": [
        "<a href=\"https://colab.research.google.com/github/seohyeon-lee-2025/network_of_rings/blob/main/network_of_thrones.ipynb\" target=\"_parent\"><img src=\"https://colab.research.google.com/assets/colab-badge.svg\" alt=\"Open In Colab\"/></a>"
      ]
    },
    {
      "cell_type": "code",
      "execution_count": 4,
      "metadata": {
        "colab": {
          "base_uri": "https://localhost:8080/",
          "height": 371
        },
        "id": "DxMEqZC4RbX4",
        "outputId": "cc2ad764-f7c4-4353-8c52-08e281569534"
      },
      "outputs": [],
      "source": [
        "import pandas as pd\n",
        "\n",
        "#characters_df = pd.read_csv('/content/lotr_characters.csv')"
      ]
    },
    {
      "cell_type": "code",
      "execution_count": 3,
      "metadata": {
        "id": "EqGcWmTXRlPV"
      },
      "outputs": [],
      "source": [
        "'''\n",
        "  get list of main characters of LOTR\n",
        "    char_list = []\n",
        "    create dictionary with main character names as keys\n",
        "    create subdictionary for each \n",
        "    parse text. \n",
        "    if word in char_list:\n",
        "      pick out the sentence. \n",
        "      add all other names (if any) in the same sentence as keys to subdictionary. \n",
        "      if a name is already in the subdictionary, value++\n",
        "      else, subdict[name] = 1\n",
        "    \n",
        "    use this dictionary to create and define edges below\n",
        "\n",
        "'''\n",
        "#char_list = characters_df.name\n",
        "char_list_simple = [\"Sauron\", \"Treebeard\", \"Arwen\", \"Galadriel\", \"Elrond\", \"Merry\", \"Gimli\", \"Pippin\", \"Grima\", \"Theoden\", \"Eowyn\", \"Frodo\", \"Legolas\", \"Bilbo\", \"Samwise\", \"Saruman\", \"Gollum\", \"Aragorn\", \"Gandalf\"]\n",
        "char_set_simple = set(char_list_simple)"
      ]
    },
    {
      "cell_type": "code",
      "execution_count": 4,
      "metadata": {
        "colab": {
          "base_uri": "https://localhost:8080/"
        },
        "id": "s57YWGYVSlp5",
        "outputId": "0e82b55f-56c2-4f27-e4e5-a598e956c42d"
      },
      "outputs": [
        {
          "name": "stdout",
          "output_type": "stream",
          "text": [
            "{'Sauron': {}, 'Treebeard': {}, 'Arwen': {}, 'Galadriel': {}, 'Elrond': {}, 'Merry': {}, 'Gimli': {}, 'Pippin': {}, 'Grima': {}, 'Theoden': {}, 'Eowyn': {}, 'Frodo': {}, 'Legolas': {}, 'Bilbo': {}, 'Samwise': {}, 'Saruman': {}, 'Gollum': {}, 'Aragorn': {}, 'Gandalf': {}}\n"
          ]
        }
      ],
      "source": [
        "network_d = {}\n",
        " \n",
        "# initialize dictionary with character names. values are dictionaries on their own\n",
        "for item in char_list_simple:\n",
        "    network_d[item] = {}\n",
        "\n",
        "print(network_d)"
      ]
    },
    {
      "cell_type": "code",
      "execution_count": 5,
      "metadata": {
        "colab": {
          "base_uri": "https://localhost:8080/"
        },
        "id": "-N3c23JsTGIh",
        "outputId": "be3db2ec-cd11-4fa6-affb-a81266668273"
      },
      "outputs": [
        {
          "data": {
            "text/plain": [
              "['Three Rings for the Elven-kings under the sky,',\n",
              " 'Seven for the Dwarf-lords in their halls of stone,',\n",
              " 'Nine for Mortal Men doomed to die,',\n",
              " 'One for the Dark Lord on his dark throne',\n",
              " 'In the Land of Mordor where the Shadows lie.']"
            ]
          },
          "execution_count": 5,
          "metadata": {},
          "output_type": "execute_result"
        }
      ],
      "source": [
        "f = open(\"book1.txt\", \"r\", encoding = \"ISO-8859-1\")\n",
        "\n",
        "f_lst = []\n",
        "while True:\n",
        " \n",
        "    # Get next line from file\n",
        "    line = f.readline()\n",
        "    f_lst.append(line.strip())\n",
        " \n",
        "    # if line is empty\n",
        "    # end of file is reached\n",
        "    if not line:\n",
        "        break\n",
        "\n",
        "f_lst[:5]\n"
      ]
    },
    {
      "cell_type": "code",
      "execution_count": 6,
      "metadata": {
        "colab": {
          "base_uri": "https://localhost:8080/"
        },
        "id": "5hhdbGukV6Zf",
        "outputId": "3a53ff9b-3efa-4184-f2ff-ce9835419bdf"
      },
      "outputs": [
        {
          "name": "stdout",
          "output_type": "stream",
          "text": [
            "{'Sauron': {}, 'Treebeard': {}, 'Arwen': {'Aragorn': 4, 'Frodo': 4, 'Elrond': 3}, 'Galadriel': {'Elrond': 2, 'Sauron': 2, 'Frodo': 7, 'Gandalf': 3, 'Aragorn': 2, 'Legolas': 2, 'Gimli': 3}, 'Elrond': {'Gandalf': 25, 'Bilbo': 10, 'Frodo': 22, 'Gollum': 2, 'Sauron': 8}, 'Merry': {'Frodo': 61, 'Gandalf': 11, 'Aragorn': 7, 'Legolas': 8, 'Elrond': 2}, 'Gimli': {'Legolas': 21, 'Frodo': 18, 'Aragorn': 11, 'Bilbo': 1, 'Gandalf': 19, 'Sauron': 1, 'Merry': 6, 'Elrond': 1}, 'Pippin': {'Merry': 52, 'Frodo': 70, 'Gandalf': 18, 'Elrond': 4, 'Gimli': 6, 'Aragorn': 5, 'Legolas': 8}, 'Grima': {}, 'Theoden': {}, 'Eowyn': {}, 'Frodo': {'Gollum': 13, 'Gandalf': 113, 'Sauron': 2}, 'Legolas': {'Frodo': 21, 'Gollum': 2, 'Gandalf': 8, 'Aragorn': 19, 'Elrond': 1}, 'Bilbo': {'Frodo': 81, 'Gandalf': 38, 'Gollum': 19, 'Pippin': 3, 'Merry': 7, 'Aragorn': 4, 'Legolas': 1}, 'Samwise': {'Elrond': 1, 'Bilbo': 1, 'Frodo': 1, 'Gollum': 1}, 'Saruman': {'Sauron': 7, 'Gollum': 2, 'Bilbo': 2, 'Frodo': 5, 'Elrond': 4, 'Gandalf': 6, 'Aragorn': 2}, 'Gollum': {'Gandalf': 10}, 'Aragorn': {'Frodo': 42, 'Gollum': 7, 'Elrond': 12, 'Gandalf': 28, 'Sauron': 3}, 'Gandalf': {'Sauron': 5}}\n",
            "{'Frodo': 42, 'Gollum': 7, 'Elrond': 12, 'Gandalf': 28, 'Sauron': 3}\n",
            "{'Aragorn': 4, 'Frodo': 4, 'Elrond': 3}\n",
            "{'Elrond': 2, 'Sauron': 2, 'Frodo': 7, 'Gandalf': 3, 'Aragorn': 2, 'Legolas': 2, 'Gimli': 3}\n"
          ]
        }
      ],
      "source": [
        "import string\n",
        "for line in f_lst:\n",
        "  if (len(line) > 0):\n",
        "    line = line.translate(str.maketrans('', '', string.punctuation))\n",
        "    line_set = set(line.split(\" \"))\n",
        "   # print(line_set)\n",
        "    #take intersection between character list and words in this\n",
        "    intersection = line_set.intersection(char_set_simple)\n",
        "    #print(intersection)\n",
        "\n",
        "#if 2 or more characters are mentioned together in one line\n",
        "    if (len(intersection) >1):\n",
        "      #print(len(intersection))\n",
        "      #loop through intersection\n",
        "      for word in intersection:\n",
        "        #add all other characters in intersection to subdictionary of each character\n",
        "        for subitem in intersection:\n",
        "          if subitem != word:\n",
        "            if word not in network_d[subitem].keys(): #if we did [frodo][bilbo] then we shouldn't create [bilbo][frodo]\n",
        "              if subitem in network_d[word].keys():\n",
        "                network_d[word][subitem] += 1\n",
        "              else: network_d[word][subitem]=1\n",
        "         \n",
        "\n",
        "\n",
        "print(network_d)\n",
        "\n",
        "print(network_d['Aragorn'])\n",
        "print(network_d['Arwen'])\n",
        "print(network_d['Galadriel'])\n"
      ]
    },
    {
      "cell_type": "code",
      "execution_count": 7,
      "metadata": {},
      "outputs": [
        {
          "name": "stdout",
          "output_type": "stream",
          "text": [
            "Arwen Aragorn 4\n",
            "Arwen Frodo 4\n",
            "Arwen Elrond 3\n",
            "Galadriel Elrond 2\n",
            "Galadriel Sauron 2\n",
            "Galadriel Frodo 7\n",
            "Galadriel Gandalf 3\n",
            "Galadriel Aragorn 2\n",
            "Galadriel Legolas 2\n",
            "Galadriel Gimli 3\n",
            "Elrond Gandalf 25\n",
            "Elrond Bilbo 10\n",
            "Elrond Frodo 22\n",
            "Elrond Gollum 2\n",
            "Elrond Sauron 8\n",
            "Merry Frodo 61\n",
            "Merry Gandalf 11\n",
            "Merry Aragorn 7\n",
            "Merry Legolas 8\n",
            "Merry Elrond 2\n",
            "Gimli Legolas 21\n",
            "Gimli Frodo 18\n",
            "Gimli Aragorn 11\n",
            "Gimli Bilbo 1\n",
            "Gimli Gandalf 19\n",
            "Gimli Sauron 1\n",
            "Gimli Merry 6\n",
            "Gimli Elrond 1\n",
            "Pippin Merry 52\n",
            "Pippin Frodo 70\n",
            "Pippin Gandalf 18\n",
            "Pippin Elrond 4\n",
            "Pippin Gimli 6\n",
            "Pippin Aragorn 5\n",
            "Pippin Legolas 8\n",
            "Frodo Gollum 13\n",
            "Frodo Gandalf 113\n",
            "Frodo Sauron 2\n",
            "Legolas Frodo 21\n",
            "Legolas Gollum 2\n",
            "Legolas Gandalf 8\n",
            "Legolas Aragorn 19\n",
            "Legolas Elrond 1\n",
            "Bilbo Frodo 81\n",
            "Bilbo Gandalf 38\n",
            "Bilbo Gollum 19\n",
            "Bilbo Pippin 3\n",
            "Bilbo Merry 7\n",
            "Bilbo Aragorn 4\n",
            "Bilbo Legolas 1\n",
            "Samwise Elrond 1\n",
            "Samwise Bilbo 1\n",
            "Samwise Frodo 1\n",
            "Samwise Gollum 1\n",
            "Saruman Sauron 7\n",
            "Saruman Gollum 2\n",
            "Saruman Bilbo 2\n",
            "Saruman Frodo 5\n",
            "Saruman Elrond 4\n",
            "Saruman Gandalf 6\n",
            "Saruman Aragorn 2\n",
            "Gollum Gandalf 10\n",
            "Aragorn Frodo 42\n",
            "Aragorn Gollum 7\n",
            "Aragorn Elrond 12\n",
            "Aragorn Gandalf 28\n",
            "Aragorn Sauron 3\n",
            "Gandalf Sauron 5\n"
          ]
        }
      ],
      "source": [
        "for key in network_d.keys():\n",
        "    for subkey in network_d[key]:\n",
        "        print(key, subkey, network_d[key][subkey])"
      ]
    },
    {
      "cell_type": "code",
      "execution_count": 8,
      "metadata": {},
      "outputs": [],
      "source": [
        "import matplotlib.pyplot as plt\n",
        "import networkx as nx\n",
        "\n",
        "G = nx.Graph()\n",
        "\n",
        "for key in network_d.keys():\n",
        "    for subkey in network_d[key]:\n",
        "        G.add_edge(key, subkey, weight = network_d[key][subkey])\n",
        "\n",
        "\n",
        "\n"
      ]
    },
    {
      "cell_type": "code",
      "execution_count": 20,
      "metadata": {},
      "outputs": [
        {
          "ename": "TypeError",
          "evalue": "unsupported operand type(s) for *: 'int' and 'dict'",
          "output_type": "error",
          "traceback": [
            "\u001b[0;31m---------------------------------------------------------------------------\u001b[0m",
            "\u001b[0;31mTypeError\u001b[0m                                 Traceback (most recent call last)",
            "Cell \u001b[0;32mIn[20], line 9\u001b[0m\n\u001b[1;32m      5\u001b[0m nodesize \u001b[39m=\u001b[39m [G\u001b[39m.\u001b[39mdegree(v) \u001b[39m*\u001b[39m \u001b[39m50\u001b[39m \u001b[39mfor\u001b[39;00m v \u001b[39min\u001b[39;00m G]\n\u001b[1;32m      7\u001b[0m pos \u001b[39m=\u001b[39m nx\u001b[39m.\u001b[39mspring_layout(G, seed\u001b[39m=\u001b[39m\u001b[39m7\u001b[39m)  \u001b[39m# positions for all nodes - seed for reproducibility\u001b[39;00m\n\u001b[0;32m----> 9\u001b[0m nx\u001b[39m.\u001b[39;49mdraw_networkx_edges(G, pos, alpha\u001b[39m=\u001b[39;49m\u001b[39m0.3\u001b[39;49m, width\u001b[39m=\u001b[39;49medgewidth, edge_color\u001b[39m=\u001b[39;49m\u001b[39m\"\u001b[39;49m\u001b[39mm\u001b[39;49m\u001b[39m\"\u001b[39;49m)\n\u001b[1;32m     10\u001b[0m nx\u001b[39m.\u001b[39mdraw_networkx_nodes(G, pos, node_size\u001b[39m=\u001b[39mnodesize, node_color\u001b[39m=\u001b[39m\u001b[39m\"\u001b[39m\u001b[39m#210070\u001b[39m\u001b[39m\"\u001b[39m, alpha\u001b[39m=\u001b[39m\u001b[39m0.9\u001b[39m)\n\u001b[1;32m     12\u001b[0m \u001b[39m# nodes\u001b[39;00m\n",
            "File \u001b[0;32m~/miniconda3/lib/python3.10/site-packages/networkx/drawing/nx_pylab.py:861\u001b[0m, in \u001b[0;36mdraw_networkx_edges\u001b[0;34m(G, pos, edgelist, width, edge_color, style, alpha, arrowstyle, arrowsize, edge_cmap, edge_vmin, edge_vmax, ax, arrows, label, node_size, nodelist, node_shape, connectionstyle, min_source_margin, min_target_margin)\u001b[0m\n\u001b[1;32m    859\u001b[0m \u001b[39m# Draw the edges\u001b[39;00m\n\u001b[1;32m    860\u001b[0m \u001b[39mif\u001b[39;00m use_linecollection:\n\u001b[0;32m--> 861\u001b[0m     edge_viz_obj \u001b[39m=\u001b[39m _draw_networkx_edges_line_collection()\n\u001b[1;32m    862\u001b[0m     \u001b[39m# Make sure selfloop edges are also drawn\u001b[39;00m\n\u001b[1;32m    863\u001b[0m     selfloops_to_draw \u001b[39m=\u001b[39m [loop \u001b[39mfor\u001b[39;00m loop \u001b[39min\u001b[39;00m nx\u001b[39m.\u001b[39mselfloop_edges(G) \u001b[39mif\u001b[39;00m loop \u001b[39min\u001b[39;00m edgelist]\n",
            "File \u001b[0;32m~/miniconda3/lib/python3.10/site-packages/networkx/drawing/nx_pylab.py:703\u001b[0m, in \u001b[0;36mdraw_networkx_edges.<locals>._draw_networkx_edges_line_collection\u001b[0;34m()\u001b[0m\n\u001b[1;32m    702\u001b[0m \u001b[39mdef\u001b[39;00m \u001b[39m_draw_networkx_edges_line_collection\u001b[39m():\n\u001b[0;32m--> 703\u001b[0m     edge_collection \u001b[39m=\u001b[39m mpl\u001b[39m.\u001b[39;49mcollections\u001b[39m.\u001b[39;49mLineCollection(\n\u001b[1;32m    704\u001b[0m         edge_pos,\n\u001b[1;32m    705\u001b[0m         colors\u001b[39m=\u001b[39;49medge_color,\n\u001b[1;32m    706\u001b[0m         linewidths\u001b[39m=\u001b[39;49mwidth,\n\u001b[1;32m    707\u001b[0m         antialiaseds\u001b[39m=\u001b[39;49m(\u001b[39m1\u001b[39;49m,),\n\u001b[1;32m    708\u001b[0m         linestyle\u001b[39m=\u001b[39;49mstyle,\n\u001b[1;32m    709\u001b[0m         alpha\u001b[39m=\u001b[39;49malpha,\n\u001b[1;32m    710\u001b[0m     )\n\u001b[1;32m    711\u001b[0m     edge_collection\u001b[39m.\u001b[39mset_cmap(edge_cmap)\n\u001b[1;32m    712\u001b[0m     edge_collection\u001b[39m.\u001b[39mset_clim(edge_vmin, edge_vmax)\n",
            "File \u001b[0;32m~/miniconda3/lib/python3.10/site-packages/matplotlib/collections.py:1409\u001b[0m, in \u001b[0;36mLineCollection.__init__\u001b[0;34m(self, segments, zorder, **kwargs)\u001b[0m\n\u001b[1;32m   1407\u001b[0m \u001b[39m# Unfortunately, mplot3d needs this explicit setting of 'facecolors'.\u001b[39;00m\n\u001b[1;32m   1408\u001b[0m kwargs\u001b[39m.\u001b[39msetdefault(\u001b[39m'\u001b[39m\u001b[39mfacecolors\u001b[39m\u001b[39m'\u001b[39m, \u001b[39m'\u001b[39m\u001b[39mnone\u001b[39m\u001b[39m'\u001b[39m)\n\u001b[0;32m-> 1409\u001b[0m \u001b[39msuper\u001b[39;49m()\u001b[39m.\u001b[39;49m\u001b[39m__init__\u001b[39;49m(\n\u001b[1;32m   1410\u001b[0m     zorder\u001b[39m=\u001b[39;49mzorder,\n\u001b[1;32m   1411\u001b[0m     \u001b[39m*\u001b[39;49m\u001b[39m*\u001b[39;49mkwargs)\n\u001b[1;32m   1412\u001b[0m \u001b[39mself\u001b[39m\u001b[39m.\u001b[39mset_segments(segments)\n",
            "File \u001b[0;32m~/miniconda3/lib/python3.10/site-packages/matplotlib/_api/deprecation.py:454\u001b[0m, in \u001b[0;36mmake_keyword_only.<locals>.wrapper\u001b[0;34m(*args, **kwargs)\u001b[0m\n\u001b[1;32m    448\u001b[0m \u001b[39mif\u001b[39;00m \u001b[39mlen\u001b[39m(args) \u001b[39m>\u001b[39m name_idx:\n\u001b[1;32m    449\u001b[0m     warn_deprecated(\n\u001b[1;32m    450\u001b[0m         since, message\u001b[39m=\u001b[39m\u001b[39m\"\u001b[39m\u001b[39mPassing the \u001b[39m\u001b[39m%(name)s\u001b[39;00m\u001b[39m \u001b[39m\u001b[39m%(obj_type)s\u001b[39;00m\u001b[39m \u001b[39m\u001b[39m\"\u001b[39m\n\u001b[1;32m    451\u001b[0m         \u001b[39m\"\u001b[39m\u001b[39mpositionally is deprecated since Matplotlib \u001b[39m\u001b[39m%(since)s\u001b[39;00m\u001b[39m; the \u001b[39m\u001b[39m\"\u001b[39m\n\u001b[1;32m    452\u001b[0m         \u001b[39m\"\u001b[39m\u001b[39mparameter will become keyword-only \u001b[39m\u001b[39m%(removal)s\u001b[39;00m\u001b[39m.\u001b[39m\u001b[39m\"\u001b[39m,\n\u001b[1;32m    453\u001b[0m         name\u001b[39m=\u001b[39mname, obj_type\u001b[39m=\u001b[39m\u001b[39mf\u001b[39m\u001b[39m\"\u001b[39m\u001b[39mparameter of \u001b[39m\u001b[39m{\u001b[39;00mfunc\u001b[39m.\u001b[39m\u001b[39m__name__\u001b[39m\u001b[39m}\u001b[39;00m\u001b[39m()\u001b[39m\u001b[39m\"\u001b[39m)\n\u001b[0;32m--> 454\u001b[0m \u001b[39mreturn\u001b[39;00m func(\u001b[39m*\u001b[39;49margs, \u001b[39m*\u001b[39;49m\u001b[39m*\u001b[39;49mkwargs)\n",
            "File \u001b[0;32m~/miniconda3/lib/python3.10/site-packages/matplotlib/collections.py:173\u001b[0m, in \u001b[0;36mCollection.__init__\u001b[0;34m(self, edgecolors, facecolors, linewidths, linestyles, capstyle, joinstyle, antialiaseds, offsets, offset_transform, norm, cmap, pickradius, hatch, urls, zorder, **kwargs)\u001b[0m\n\u001b[1;32m    171\u001b[0m \u001b[39mself\u001b[39m\u001b[39m.\u001b[39mset_facecolor(facecolors)\n\u001b[1;32m    172\u001b[0m \u001b[39mself\u001b[39m\u001b[39m.\u001b[39mset_edgecolor(edgecolors)\n\u001b[0;32m--> 173\u001b[0m \u001b[39mself\u001b[39;49m\u001b[39m.\u001b[39;49mset_linewidth(linewidths)\n\u001b[1;32m    174\u001b[0m \u001b[39mself\u001b[39m\u001b[39m.\u001b[39mset_linestyle(linestyles)\n\u001b[1;32m    175\u001b[0m \u001b[39mself\u001b[39m\u001b[39m.\u001b[39mset_antialiased(antialiaseds)\n",
            "File \u001b[0;32m~/miniconda3/lib/python3.10/site-packages/matplotlib/collections.py:580\u001b[0m, in \u001b[0;36mCollection.set_linewidth\u001b[0;34m(self, lw)\u001b[0m\n\u001b[1;32m    577\u001b[0m \u001b[39mself\u001b[39m\u001b[39m.\u001b[39m_us_lw \u001b[39m=\u001b[39m np\u001b[39m.\u001b[39matleast_1d(lw)\n\u001b[1;32m    579\u001b[0m \u001b[39m# scale all of the dash patterns.\u001b[39;00m\n\u001b[0;32m--> 580\u001b[0m \u001b[39mself\u001b[39m\u001b[39m.\u001b[39m_linewidths, \u001b[39mself\u001b[39m\u001b[39m.\u001b[39m_linestyles \u001b[39m=\u001b[39m \u001b[39mself\u001b[39;49m\u001b[39m.\u001b[39;49m_bcast_lwls(\n\u001b[1;32m    581\u001b[0m     \u001b[39mself\u001b[39;49m\u001b[39m.\u001b[39;49m_us_lw, \u001b[39mself\u001b[39;49m\u001b[39m.\u001b[39;49m_us_linestyles)\n\u001b[1;32m    582\u001b[0m \u001b[39mself\u001b[39m\u001b[39m.\u001b[39mstale \u001b[39m=\u001b[39m \u001b[39mTrue\u001b[39;00m\n",
            "File \u001b[0;32m~/miniconda3/lib/python3.10/site-packages/matplotlib/collections.py:687\u001b[0m, in \u001b[0;36mCollection._bcast_lwls\u001b[0;34m(linewidths, dashes)\u001b[0m\n\u001b[1;32m    684\u001b[0m     linewidths \u001b[39m=\u001b[39m \u001b[39mlist\u001b[39m(linewidths) \u001b[39m*\u001b[39m (l_dashes \u001b[39m/\u001b[39m\u001b[39m/\u001b[39m gcd)\n\u001b[1;32m    686\u001b[0m \u001b[39m# scale the dash patterns\u001b[39;00m\n\u001b[0;32m--> 687\u001b[0m dashes \u001b[39m=\u001b[39m [mlines\u001b[39m.\u001b[39m_scale_dashes(o, d, lw)\n\u001b[1;32m    688\u001b[0m           \u001b[39mfor\u001b[39;00m (o, d), lw \u001b[39min\u001b[39;00m \u001b[39mzip\u001b[39m(dashes, linewidths)]\n\u001b[1;32m    690\u001b[0m \u001b[39mreturn\u001b[39;00m linewidths, dashes\n",
            "File \u001b[0;32m~/miniconda3/lib/python3.10/site-packages/matplotlib/collections.py:687\u001b[0m, in \u001b[0;36m<listcomp>\u001b[0;34m(.0)\u001b[0m\n\u001b[1;32m    684\u001b[0m     linewidths \u001b[39m=\u001b[39m \u001b[39mlist\u001b[39m(linewidths) \u001b[39m*\u001b[39m (l_dashes \u001b[39m/\u001b[39m\u001b[39m/\u001b[39m gcd)\n\u001b[1;32m    686\u001b[0m \u001b[39m# scale the dash patterns\u001b[39;00m\n\u001b[0;32m--> 687\u001b[0m dashes \u001b[39m=\u001b[39m [mlines\u001b[39m.\u001b[39;49m_scale_dashes(o, d, lw)\n\u001b[1;32m    688\u001b[0m           \u001b[39mfor\u001b[39;00m (o, d), lw \u001b[39min\u001b[39;00m \u001b[39mzip\u001b[39m(dashes, linewidths)]\n\u001b[1;32m    690\u001b[0m \u001b[39mreturn\u001b[39;00m linewidths, dashes\n",
            "File \u001b[0;32m~/miniconda3/lib/python3.10/site-packages/matplotlib/lines.py:66\u001b[0m, in \u001b[0;36m_scale_dashes\u001b[0;34m(offset, dashes, lw)\u001b[0m\n\u001b[1;32m     64\u001b[0m \u001b[39mif\u001b[39;00m \u001b[39mnot\u001b[39;00m mpl\u001b[39m.\u001b[39mrcParams[\u001b[39m'\u001b[39m\u001b[39mlines.scale_dashes\u001b[39m\u001b[39m'\u001b[39m]:\n\u001b[1;32m     65\u001b[0m     \u001b[39mreturn\u001b[39;00m offset, dashes\n\u001b[0;32m---> 66\u001b[0m scaled_offset \u001b[39m=\u001b[39m offset \u001b[39m*\u001b[39;49m lw\n\u001b[1;32m     67\u001b[0m scaled_dashes \u001b[39m=\u001b[39m ([x \u001b[39m*\u001b[39m lw \u001b[39mif\u001b[39;00m x \u001b[39mis\u001b[39;00m \u001b[39mnot\u001b[39;00m \u001b[39mNone\u001b[39;00m \u001b[39melse\u001b[39;00m \u001b[39mNone\u001b[39;00m \u001b[39mfor\u001b[39;00m x \u001b[39min\u001b[39;00m dashes]\n\u001b[1;32m     68\u001b[0m                  \u001b[39mif\u001b[39;00m dashes \u001b[39mis\u001b[39;00m \u001b[39mnot\u001b[39;00m \u001b[39mNone\u001b[39;00m \u001b[39melse\u001b[39;00m \u001b[39mNone\u001b[39;00m)\n\u001b[1;32m     69\u001b[0m \u001b[39mreturn\u001b[39;00m scaled_offset, scaled_dashes\n",
            "\u001b[0;31mTypeError\u001b[0m: unsupported operand type(s) for *: 'int' and 'dict'"
          ]
        },
        {
          "data": {
            "image/png": "[encoded data removed]",
            "text/plain": [
              "<Figure size 640x480 with 1 Axes>"
            ]
          },
          "metadata": {},
          "output_type": "display_data"
        }
      ],
      "source": [
        "elarge = [(u, v) for (u, v, d) in G.edges(data=True) if d[\"weight\"] > 0.5]\n",
        "esmall = [(u, v) for (u, v, d) in G.edges(data=True) if d[\"weight\"] <= 0.5]\n",
        "\n",
        "edgewidth = [G.get_edge_data(u, v) for u, v in G.edges()]\n",
        "nodesize = [G.degree(v) * 50 for v in G]\n",
        "\n",
        "pos = nx.spring_layout(G, seed=7)  # positions for all nodes - seed for reproducibility\n",
        "\n",
        "nx.draw_networkx_edges(G, pos, alpha=0.3, width=edgewidth, edge_color=\"m\")\n",
        "nx.draw_networkx_nodes(G, pos, node_size=nodesize, node_color=\"#210070\", alpha=0.9)\n",
        "\n",
        "# nodes\n",
        "nx.draw_networkx_nodes(G, pos, node_size=700)\n",
        "\n",
        "# edges\n",
        "nx.draw_networkx_edges(G, pos, edgelist=elarge, width=6)\n",
        "nx.draw_networkx_edges(\n",
        "    G, pos, edgelist=esmall, width=6, alpha=0.5, edge_color=\"b\", style=\"dashed\"\n",
        ")\n",
        "\n",
        "# node labels\n",
        "nx.draw_networkx_labels(G, pos, font_size=20, font_family=\"sans-serif\")\n",
        "# edge weight labels\n",
        "edge_labels = nx.get_edge_attributes(G, \"weight\")\n",
        "nx.draw_networkx_edge_labels(G, pos, edge_labels)\n",
        "\n",
        "ax = plt.gca()\n",
        "ax.margins(0.08)\n",
        "plt.axis(\"off\")\n",
        "plt.tight_layout()\n",
        "plt.show()\n",
        "\n",
        "\n",
        "\n",
        "\n",
        "#todo\n",
        "#make edges thickneess proportional to weight\n",
        "\n",
        "\n",
        "# edge width is proportional number of games played\n",
        "\n",
        "\n",
        "#node size proportional to deg\n"
      ]
    },
    {
      "cell_type": "code",
      "execution_count": 15,
      "metadata": {
        "colab": {
          "base_uri": "https://localhost:8080/",
          "height": 240
        },
        "id": "VaALC7CyJuBi",
        "outputId": "d859831a-87fd-42b0-d6c4-62c5797b73ee"
      },
      "outputs": [
        {
          "ename": "NameError",
          "evalue": "name 'edge_c' is not defined",
          "output_type": "error",
          "traceback": [
            "\u001b[0;31m---------------------------------------------------------------------------\u001b[0m",
            "\u001b[0;31mNameError\u001b[0m                                 Traceback (most recent call last)",
            "Cell \u001b[0;32mIn[15], line 40\u001b[0m\n\u001b[1;32m     37\u001b[0m     \u001b[39mreturn\u001b[39;00m G\n\u001b[1;32m     39\u001b[0m n \u001b[39m=\u001b[39m \u001b[39m500\u001b[39m\n\u001b[0;32m---> 40\u001b[0m NG \u001b[39m=\u001b[39m generate_network(network_d)\n\u001b[1;32m     41\u001b[0m \u001b[39mprint\u001b[39m(nx\u001b[39m.\u001b[39minfo(NG))\n\u001b[1;32m     43\u001b[0m \u001b[39m# visualize graph\u001b[39;00m\n",
            "Cell \u001b[0;32mIn[15], line 32\u001b[0m, in \u001b[0;36mgenerate_network\u001b[0;34m(graph_dct)\u001b[0m\n\u001b[1;32m     30\u001b[0m \u001b[39m# generate edges\u001b[39;00m\n\u001b[1;32m     31\u001b[0m \u001b[39mfor\u001b[39;00m key, subdict \u001b[39min\u001b[39;00m graph_dct\u001b[39m.\u001b[39mitems():\n\u001b[0;32m---> 32\u001b[0m     el \u001b[39m=\u001b[39m random\u001b[39m.\u001b[39msample(nodes, edge_c)\n\u001b[1;32m     33\u001b[0m     graph_dct[n] \u001b[39m=\u001b[39m el\n\u001b[1;32m     35\u001b[0m \u001b[39m# create networkx multi-edge graph\u001b[39;00m\n",
            "\u001b[0;31mNameError\u001b[0m: name 'edge_c' is not defined"
          ]
        }
      ],
      "source": [
        "#probability spring 2023 final project\n",
        "\n",
        "import random\n",
        "import networkx as nx\n",
        "import numpy as np\n",
        "from community import community_louvain\n",
        "import matplotlib.pyplot as plt\n",
        "\n",
        "\n",
        "def generate_network(graph_dct):\n",
        "    '''\n",
        "    This function will generate network associated to the user specifed\n",
        "    number of nodes. \n",
        "\n",
        "  \n",
        "    \n",
        "    params:\n",
        "        n (Integer) : The number of nodes you want in your network\n",
        "    \n",
        "    returns:\n",
        "        A networkX multi-graph\n",
        "        \n",
        "    example:\n",
        "        G = generate_network(n)\n",
        "    '''\n",
        "    # initialize dictionary with nodes\n",
        "    nodes = graph_dct.keys()\n",
        "    E = 0\n",
        "    \n",
        "    # generate edges\n",
        "    for key, subdict in graph_dct.items():\n",
        "        el = random.sample(nodes, edge_c)\n",
        "        graph_dct[n] = el\n",
        "    \n",
        "    # create networkx multi-edge graph\n",
        "    G = nx.MultiGraph(graph_dct)\n",
        "    return G\n",
        "\n",
        "n = 500\n",
        "NG = generate_network(network_d)\n",
        "print(nx.info(NG))\n",
        "\n",
        "# visualize graph\n",
        "pos = nx.spring_layout(NG)\n",
        "nx.draw(NG, pos, node_size = 75, alpha = 0.8)\n",
        "plt.show()"
      ]
    },
    {
      "cell_type": "code",
      "execution_count": null,
      "metadata": {
        "id": "zdJ9o0UbKUZ5"
      },
      "outputs": [],
      "source": []
    }
  ],
  "metadata": {
    "colab": {
      "include_colab_link": true,
      "provenance": []
    },
    "kernelspec": {
      "display_name": "Python 3",
      "name": "python3"
    },
    "language_info": {
      "codemirror_mode": {
        "name": "ipython",
        "version": 3
      },
      "file_extension": ".py",
      "mimetype": "text/x-python",
      "name": "python",
      "nbconvert_exporter": "python",
      "pygments_lexer": "ipython3",
      "version": "3.10.9"
    }
  },
  "nbformat": 4,
  "nbformat_minor": 0
}
